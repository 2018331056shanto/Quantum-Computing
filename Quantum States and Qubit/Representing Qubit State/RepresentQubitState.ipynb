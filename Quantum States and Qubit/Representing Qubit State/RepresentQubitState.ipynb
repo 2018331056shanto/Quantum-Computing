{
 "cells": [
  {
   "attachments": {},
   "cell_type": "markdown",
   "metadata": {},
   "source": [
    "# Classical vs Quantum Bits\n"
   ]
  },
  {
   "attachments": {},
   "cell_type": "markdown",
   "metadata": {},
   "source": [
    "## Statevectors\n",
    "\n",
    "#### In quantum physics we use **_Statevectors_** to describe the state of our system. Each element in the statevector contains the probability of finding the car in a certain place:\n",
    "\n",
    "![statevector](./statevector.png)\n",
    "\n",
    "#### We could also keep a statevector of all the possible state of a car like speed,color etc\n"
   ]
  },
  {
   "attachments": {},
   "cell_type": "markdown",
   "metadata": {},
   "source": [
    "## Qubit Notion\n",
    "\n",
    "#### Classical bits are always either 0 or 1 at every point during a computation.\n",
    "\n",
    "---\n",
    "\n",
    "#### This restriction is lifted for quantum bits. Whether we get a 0 or a 1 from a qubit only needs to be well-defined when a measurement is made to extract an output. At that point, it must commit to one of these two options. At all other times, its state will be something more complex than can be captured by a simple binary value.\n",
    "\n",
    "#### There exists a qubit state that is certain to output a 1 and output a 0 we call it 1 and 0 state respectively. There is no overlap. These two state are **_Linearly Independent_** means we can't form other with any linear combination of itself. These two state are also **_Orthogonal_**. We can represent these state with vectors\n",
    "\n",
    "![01state](./01state.png)\n",
    "\n",
    "#### Vectors, you can essentially just think of them as lists of numbers which we manipulate using certain rules.These rules make vectors well-suited for describing quantities with a magnitude and a direction.\n",
    "\n",
    "#### We can write any state with the combination of\n",
    "\n",
    "![01state](./01state.png)\n",
    "\n",
    "#### Example\n",
    "\n",
    "![anystate](./anystate.png)\n",
    "\n",
    "### This state can be written as\n",
    "\n",
    "![anystatederivation](./anystatederi.png)\n"
   ]
  },
  {
   "attachments": {},
   "cell_type": "markdown",
   "metadata": {},
   "source": [
    "## Orthonormal Bases\n",
    "\n",
    "---\n",
    "\n",
    "#### Two vectors  $\\left. \\middle | 0 \\right\\rangle$  and $\\left. \\middle | 1 \\right\\rangle$ are orthonormal, this means they are both **_Orthogonal_** and **_Normalised_**. Orthogonal means the vectors are at right angles:\n",
    "\n",
    "![right-angle](./rightangle.png)\n",
    "\n",
    "#### And **_Normalised_** means their magnitudes (length of the arrow) is equal to 1.\n",
    "\n",
    "#### The two vectors $\\left. \\middle | 0 \\right\\rangle$ and $\\left. \\middle | 1 \\right\\rangle$ are linearly independent, which means we cannot describe $\\left. \\middle | 0 \\right\\rangle$ in terms of $\\left. \\middle | 1 \\right\\rangle$, and vice versa. However, using both the vectors $\\left. \\middle | 0 \\right\\rangle$ and $\\left. \\middle | 1 \\right\\rangle$, and our rules of addition and multiplication by scalars.\n",
    "\n",
    "![orthonormal](./orthonormalbasis1.png)\n",
    "\n",
    "#### Because the vectors **$\\left. \\middle | 0 \\right\\rangle$** and **$\\left. \\middle | 1 \\right\\rangle$** are linearly independent, and can be used to describe any vector in 2D space using vector addition and scalar multiplication, we say the vectors **$\\left. \\middle | 0 \\right\\rangle$** and **$\\left. \\middle | 1 \\right\\rangle$** form a **_Basis_**. In this case, since they are both **Orthogonal** and **Normalised**, we call it an **_Orthonormal Basis_**.\n",
    "\n",
    "### We typically describe linear combinations such as this using the word **Superposition**.\n",
    "\n",
    "#### **$\\left. \\middle | q_0 \\right\\rangle$** can be expressed as a superposition of **$\\left. \\middle | 0 \\right\\rangle$** and **$\\left. \\middle | 1 \\right\\rangle$** , it is no less a definite and well-defined qubit state than they are.\n"
   ]
  },
  {
   "attachments": {},
   "cell_type": "markdown",
   "metadata": {},
   "source": [
    "## Qubits with Qiskit\n"
   ]
  },
  {
   "cell_type": "code",
   "execution_count": 28,
   "metadata": {},
   "outputs": [],
   "source": [
    "#  QuantumCircuit object to store our circuits\n",
    "from qiskit import QuantumCircuit,Aer\n",
    "from qiskit.visualization import plot_bloch_vector,plot_histogram\n",
    "from math import sqrt,pi"
   ]
  },
  {
   "attachments": {},
   "cell_type": "markdown",
   "metadata": {},
   "source": [
    "### Initialize the Qubit State and save the state vector\n"
   ]
  },
  {
   "cell_type": "code",
   "execution_count": 29,
   "metadata": {},
   "outputs": [
    {
     "data": {
      "text/html": [
       "<pre style=\"word-wrap: normal;white-space: pre;background: #fff0;line-height: 1.1;font-family: &quot;Courier New&quot;,Courier,monospace\">   ┌─────────────────┐ statevector \n",
       "q: ┤ Initialize(0,1) ├──────░──────\n",
       "   └─────────────────┘      ░      </pre>"
      ],
      "text/plain": [
       "   ┌─────────────────┐ statevector \n",
       "q: ┤ Initialize(0,1) ├──────░──────\n",
       "   └─────────────────┘      ░      "
      ]
     },
     "execution_count": 29,
     "metadata": {},
     "output_type": "execute_result"
    }
   ],
   "source": [
    "# initial state |0>\n",
    "qc=QuantumCircuit(1)\n",
    "# initialize() method to initialize the qubit into anystate\n",
    "initial_state=[0,1]\n",
    "# Apply initialisation operation to the 0th qubit\n",
    "qc.initialize(initial_state,0)\n",
    "qc.save_statevector()\n",
    "qc.draw()"
   ]
  },
  {
   "attachments": {},
   "cell_type": "markdown",
   "metadata": {},
   "source": [
    "### Simulate our circuit\n"
   ]
  },
  {
   "cell_type": "code",
   "execution_count": 30,
   "metadata": {},
   "outputs": [],
   "source": [
    "# To simulate\n",
    "sim = Aer.get_backend('aer_simulator')\n",
    "result=sim.run(qc).result()\n"
   ]
  },
  {
   "attachments": {},
   "cell_type": "markdown",
   "metadata": {},
   "source": [
    "### Get the state vector\n"
   ]
  },
  {
   "cell_type": "code",
   "execution_count": 31,
   "metadata": {},
   "outputs": [
    {
     "name": "stdout",
     "output_type": "stream",
     "text": [
      "Statevector([0.+0.j, 1.+0.j],\n",
      "            dims=(2,))\n"
     ]
    }
   ],
   "source": [
    "# Display the output state vector\n",
    "\n",
    "out_state=result.get_statevector()\n",
    "counts=result.get_counts()\n",
    "print(out_state)"
   ]
  },
  {
   "attachments": {},
   "cell_type": "markdown",
   "metadata": {},
   "source": [
    "### Measure the result\n"
   ]
  },
  {
   "cell_type": "code",
   "execution_count": 32,
   "metadata": {},
   "outputs": [
    {
     "data": {
      "image/png": "[encoded data removed]",
      "text/plain": [
       "<Figure size 700x500 with 1 Axes>"
      ]
     },
     "execution_count": 32,
     "metadata": {},
     "output_type": "execute_result"
    }
   ],
   "source": [
    "qc.measure_all()\n",
    "qc.draw()\n",
    "plot_histogram(counts)\n"
   ]
  },
  {
   "attachments": {},
   "cell_type": "markdown",
   "metadata": {},
   "source": [
    "### Put our Qubit into Superposition State\n"
   ]
  },
  {
   "cell_type": "code",
   "execution_count": 33,
   "metadata": {},
   "outputs": [
    {
     "data": {
      "text/html": [
       "<pre style=\"word-wrap: normal;white-space: pre;background: #fff0;line-height: 1.1;font-family: &quot;Courier New&quot;,Courier,monospace\">   ┌──────────────────────────────┐ statevector \n",
       "q: ┤ Initialize(0.70711,0.70711j) ├──────░──────\n",
       "   └──────────────────────────────┘      ░      </pre>"
      ],
      "text/plain": [
       "   ┌──────────────────────────────┐ statevector \n",
       "q: ┤ Initialize(0.70711,0.70711j) ├──────░──────\n",
       "   └──────────────────────────────┘      ░      "
      ]
     },
     "execution_count": 33,
     "metadata": {},
     "output_type": "execute_result"
    }
   ],
   "source": [
    "new_qc=QuantumCircuit(1)\n",
    "initial_state=[1/sqrt(2),1j/sqrt(2)]\n",
    "new_qc.initialize(initial_state,0)\n",
    "new_qc.save_statevector()\n",
    "new_qc.draw()\n"
   ]
  },
  {
   "attachments": {},
   "cell_type": "markdown",
   "metadata": {},
   "source": [
    "### Now Simulate\n"
   ]
  },
  {
   "cell_type": "code",
   "execution_count": 34,
   "metadata": {},
   "outputs": [
    {
     "name": "stdout",
     "output_type": "stream",
     "text": [
      "Statevector([0.70710678+0.j        , 0.        +0.70710678j],\n",
      "            dims=(2,))\n"
     ]
    }
   ],
   "source": [
    "new_result=sim.run(new_qc).result()\n",
    "new_output=new_result.get_statevector()\n",
    "print(new_output)"
   ]
  },
  {
   "cell_type": "code",
   "execution_count": 35,
   "metadata": {},
   "outputs": [
    {
     "data": {
      "image/png": "[encoded data removed]",
      "text/plain": [
       "<Figure size 700x500 with 1 Axes>"
      ]
     },
     "execution_count": 35,
     "metadata": {},
     "output_type": "execute_result"
    }
   ],
   "source": [
    "new_count=new_result.get_counts()\n",
    "plot_histogram(new_count)"
   ]
  },
  {
   "attachments": {},
   "cell_type": "markdown",
   "metadata": {},
   "source": [
    "## The Rules of Measurement\n"
   ]
  },
  {
   "attachments": {},
   "cell_type": "markdown",
   "metadata": {},
   "source": [
    "### Rule of measurement\n",
    "\n",
    "#### To find the probability of measuring a state $ \\left | \\psi \\right\\rangle $ in the state $\\left | x \\right\\rangle $ we do p($\\left |x \\right\\rangle $)= $ | \\left\\langle x \\middle | \\psi \\right\\rangle |^2 $\n",
    "\n",
    "#### $\\left\\langle x \\middle|\\right.$ it's called **Bra** it's a **Row Vector** $\\left . \\middle | x \\right\\rangle$ it's the cat notation\n",
    "\n",
    "<!-- $ \\left\\langle x \\middle | $ -->\n",
    "\n",
    "<!--\n",
    "$ \\left\\langle \\psi \\middle| \\phi \\right\\rangle $ -->\n"
   ]
  },
  {
   "attachments": {},
   "cell_type": "markdown",
   "metadata": {},
   "source": [
    "### Conjugate Transpose\n",
    "\n",
    "#### Conversion between bra-ket takes places using the conjugate transpose method.\n",
    "\n",
    "$\\left. | a \\right\\rangle$=\n",
    "$\n",
    "\\begin{bmatrix}\n",
    "a_0 \\\\\n",
    "a_1 \\\\\n",
    "\\vdots \\\\\n",
    "a_n\n",
    "\\end{bmatrix}\n",
    "$\n",
    "\n",
    "#### To get the conjugate transpose, the matrix is transposed and the elements are complex conjugated.\n",
    "\n",
    "$ \\left\\langle a | \\right. $=\n",
    "$\n",
    "\\begin{bmatrix}\n",
    "a^_\\_0 & a^_\\_1 \\cdots &a^\\*\\_n\n",
    "\\end{bmatrix}\n",
    "$\n"
   ]
  },
  {
   "attachments": {},
   "cell_type": "markdown",
   "metadata": {},
   "source": [
    "### Inner Product\n",
    "\n",
    "#### The inner product is a generalisation of the dot product In this guide, we use the inner product between a bra (row vector) and a ket (column vector), and it follows this rule:\n",
    "\n",
    "$\\left. | a \\right\\rangle$=\n",
    "$\n",
    "\\begin{bmatrix}\n",
    "a_0 \\\\\n",
    "a_1 \\\\\n",
    "\\vdots \\\\\n",
    "a_n\n",
    "\\end{bmatrix}\n",
    "$\n",
    "\n",
    "#### To get the conjugate transpose, the matrix is transposed and the elements are complex conjugated.\n",
    "\n",
    "$ \\left\\langle a | \\right. $=\n",
    "$\n",
    "\\begin{bmatrix}\n",
    "a^_\\_0 & a^_\\_1 \\cdots &a^\\*\\_n\n",
    "\\end{bmatrix}\n",
    "$\n",
    "\n",
    "$\\left. | b \\right\\rangle$=\n",
    "$\n",
    "\\begin{bmatrix}\n",
    "b_0 \\\\\n",
    "b_1 \\\\\n",
    "\\vdots \\\\\n",
    "b_n\n",
    "\\end{bmatrix}\n",
    "$\n",
    "\n",
    "$\\left\\langle a | b \\right\\rangle$=$a^*_0b_0+a^*_1b_1+a^*_2b_2 \\cdots a^*_nb_n$\n",
    "\n",
    "#### Inner product of two vectors always gives us a **Scalar**. The inner product of two **Orthogonal vectors** is $0$\n",
    "\n",
    "$\\left\\langle 1|0 \\right\\rangle$=\n",
    "$\n",
    "\\begin{bmatrix}\n",
    "0 & 1\n",
    "\\end{bmatrix}\n",
    "\\begin{bmatrix}\n",
    "1 \\\\\n",
    "0\n",
    "\\end{bmatrix}\n",
    "$ = $0$\n",
    "\n",
    "#### the vectors $\\left. |0 \\right\\rangle$ and $\\left. |1 \\right\\rangle$ are also normalised (magnitudes are equal to 1):\n",
    "\n",
    "$\\left\\langle 0|0 \\right\\rangle$=\n",
    "$\n",
    "\\begin{bmatrix}\n",
    "1 & 0\n",
    "\\end{bmatrix}\n",
    "\\begin{bmatrix}\n",
    "1 \\\\\n",
    "0\n",
    "\\end{bmatrix}\n",
    "$ = $1$\n",
    "\n",
    "$\\left\\langle 1|1 \\right\\rangle$=\n",
    "$\n",
    "\\begin{bmatrix}\n",
    "0 & 1\n",
    "\\end{bmatrix}\n",
    "\\begin{bmatrix}\n",
    "0 \\\\\n",
    "1\n",
    "\\end{bmatrix}\n",
    "$ = $1$\n",
    "\n",
    "#### In the equation above,$\\left. |x \\right\\rangle$ can be any qubit state. To find the probability of measuring $\\left. |0 \\right\\rangle$ , we take the inner product of $\\left. |0 \\right\\rangle$ and the state we are measuring (in this case $\\left. |\\psi \\right\\rangle$ ), then square the magnitude.\n",
    "\n",
    "#### If we look at the state $\\left. |q_0 \\right\\rangle$ from before, we can see the probability of measuring $\\left. |0 \\right\\rangle$ is indeed : $.5$\n",
    "\n",
    "$\\left. |q_0 \\right\\rangle$=$\\frac{1}{\\sqrt(2)}\\left. |0 \\right\\rangle + \\frac{\\imath}{\\sqrt(2)} \\left. |1 \\right\\rangle $\n",
    "\n",
    "$\\left\\langle 0 |q_0 \\right\\rangle = \\frac{1}{\\sqrt(2)}\\left\\langle 0 |0 \\right\\rangle + \\frac{\\imath}{\\sqrt(2)}\\left\\langle 0 |1 \\right\\rangle $\n",
    "\n",
    "$=\\frac{1}{\\sqrt(2)}.1 + \\frac{\\imath}{\\sqrt(2)}.0$\n",
    "\n",
    "$=\\frac{1}{2}$\n",
    "\n",
    "$| \\left\\langle 0 |q_0 \\right\\rangle|^2=\\frac{1}{2}$\n",
    "\n",
    "#### To measure Probability 1\n",
    "\n",
    "$\\left\\langle 1 |q_0 \\right\\rangle = \\frac{1}{\\sqrt(2)}\\left\\langle 1 |0 \\right\\rangle + \\frac{\\imath}{\\sqrt(2)}\\left\\langle 1 |1 \\right\\rangle $\n",
    "\n",
    "$=\\frac{1}{\\sqrt(2)}.0 + \\frac{\\imath}{\\sqrt(2)}.1$\n",
    "\n",
    "$=\\frac{1}{2}$\n",
    "\n",
    "$| \\left\\langle 1 |q_0 \\right\\rangle|^2=\\frac{1}{2}$\n"
   ]
  },
  {
   "attachments": {},
   "cell_type": "markdown",
   "metadata": {},
   "source": [
    "### Normalization\n",
    "\n",
    "#### The rule shows us that amplitudes are related to probabilities. If we want the probabilities to add up to 1 (which they should!), we need to ensure that the statevector is properly normalized. Specifically, we need the magnitude of the state vector to be 1.\n",
    "\n",
    "$\\left\\langle \\psi | \\psi \\right\\rangle =1$\n",
    "\n",
    "$\\left. | \\psi \\right\\rangle= \\alpha \\left. | 0 \\right\\rangle + \\beta \\left. | 1 \\right\\rangle$\n",
    "\n",
    "$|\\alpha|^2+|\\beta|^2=1$\n"
   ]
  },
  {
   "attachments": {},
   "cell_type": "markdown",
   "metadata": {},
   "source": [
    "### Quick Exercise\n"
   ]
  },
  {
   "attachments": {},
   "cell_type": "markdown",
   "metadata": {},
   "source": [
    "#### **Q1** Create a state vector that will give a probability of measuring $\\left. |0 \\right\\rangle$.\n"
   ]
  },
  {
   "cell_type": "code",
   "execution_count": 56,
   "metadata": {},
   "outputs": [
    {
     "data": {
      "text/html": [
       "<pre style=\"word-wrap: normal;white-space: pre;background: #fff0;line-height: 1.1;font-family: &quot;Courier New&quot;,Courier,monospace\">   ┌────────────────────────────┐ statevector \n",
       "q: ┤ Initialize(0.57735,0.8165) ├──────░──────\n",
       "   └────────────────────────────┘      ░      </pre>"
      ],
      "text/plain": [
       "   ┌────────────────────────────┐ statevector \n",
       "q: ┤ Initialize(0.57735,0.8165) ├──────░──────\n",
       "   └────────────────────────────┘      ░      "
      ]
     },
     "execution_count": 56,
     "metadata": {},
     "output_type": "execute_result"
    }
   ],
   "source": [
    "qc_exer=QuantumCircuit(1)\n",
    "initial_state=[1/sqrt(3),sqrt(2/3)]\n",
    "qc_exer.initialize(initial_state,0)\n",
    "qc_exer.save_statevector()\n",
    "qc_exer.draw()"
   ]
  },
  {
   "cell_type": "code",
   "execution_count": 57,
   "metadata": {},
   "outputs": [
    {
     "name": "stdout",
     "output_type": "stream",
     "text": [
      "Statevector([0.57735027+0.j, 0.81649658+0.j],\n",
      "            dims=(2,))\n"
     ]
    }
   ],
   "source": [
    "results=sim.run(qc_exer).result()\n",
    "state_exer=results.get_statevector()\n",
    "print(state_exer)\n",
    "# xx=results.get\n",
    "# print(result.get_statevector())"
   ]
  },
  {
   "cell_type": "code",
   "execution_count": 58,
   "metadata": {},
   "outputs": [
    {
     "data": {
      "image/png": "[encoded data removed]",
      "text/plain": [
       "<Figure size 700x500 with 1 Axes>"
      ]
     },
     "execution_count": 58,
     "metadata": {},
     "output_type": "execute_result"
    }
   ],
   "source": [
    "res_count=results.get_counts()\n",
    "plot_histogram(res_count)"
   ]
  },
  {
   "attachments": {},
   "cell_type": "markdown",
   "metadata": {},
   "source": [
    "#### Q2 Create a different state vector that will give the same measurement probabilities.\n",
    "\n",
    "#### Q3 Verify that the probability of measuring $\\left. |1 \\right\\rangle$ for these two states is $\\frac{2}{3}$ .\n"
   ]
  },
  {
   "cell_type": "code",
   "execution_count": 66,
   "metadata": {},
   "outputs": [
    {
     "data": {
      "text/html": [
       "<pre style=\"word-wrap: normal;white-space: pre;background: #fff0;line-height: 1.1;font-family: &quot;Courier New&quot;,Courier,monospace\">   ┌──────────────────────────────┐ statevector \n",
       "q: ┤ Initialize(0.57735j,0.8165j) ├──────░──────\n",
       "   └──────────────────────────────┘      ░      </pre>"
      ],
      "text/plain": [
       "   ┌──────────────────────────────┐ statevector \n",
       "q: ┤ Initialize(0.57735j,0.8165j) ├──────░──────\n",
       "   └──────────────────────────────┘      ░      "
      ]
     },
     "execution_count": 66,
     "metadata": {},
     "output_type": "execute_result"
    }
   ],
   "source": [
    "qc_exer1=QuantumCircuit(1)\n",
    "initial_state=[sqrt(2/6)*1j,sqrt(4/6)*1j]\n",
    "qc_exer1.initialize(initial_state,0)\n",
    "qc_exer1.save_statevector()\n",
    "qc_exer1.draw()\n"
   ]
  },
  {
   "cell_type": "code",
   "execution_count": 67,
   "metadata": {},
   "outputs": [
    {
     "name": "stdout",
     "output_type": "stream",
     "text": [
      "Statevector([0.+0.57735027j, 0.+0.81649658j],\n",
      "            dims=(2,))\n"
     ]
    }
   ],
   "source": [
    "results=sim.run(qc_exer1).result()\n",
    "state_exer=results.get_statevector()\n",
    "print(state_exer)   \n"
   ]
  },
  {
   "cell_type": "code",
   "execution_count": 70,
   "metadata": {},
   "outputs": [
    {
     "name": "stdout",
     "output_type": "stream",
     "text": [
      "0.6666666666666666\n"
     ]
    },
    {
     "data": {
      "image/png": "[encoded data removed]",
      "text/plain": [
       "<Figure size 700x500 with 1 Axes>"
      ]
     },
     "execution_count": 70,
     "metadata": {},
     "output_type": "execute_result"
    }
   ],
   "source": [
    "new_count=results.get_counts()\n",
    "print(2/3)\n",
    "plot_histogram(new_count)\n"
   ]
  },
  {
   "cell_type": "code",
   "execution_count": 72,
   "metadata": {},
   "outputs": [
    {
     "data": {
      "application/vnd.jupyter.widget-view+json": {
       "model_id": "d8db61bc5f0142ee8a61068d2306b313",
       "version_major": 2,
       "version_minor": 0
      },
      "text/plain": [
       "VBox(children=(Label(value='State Vector:'), HBox(children=(Text(value='[1, 0]', placeholder='Type something')…"
      ]
     },
     "metadata": {},
     "output_type": "display_data"
    },
    {
     "data": {
      "application/vnd.jupyter.widget-view+json": {
       "model_id": "796f3341dfc445feb4e9aaa1014171bb",
       "version_major": 2,
       "version_minor": 0
      },
      "text/plain": [
       "HTML(value='<pre></pre>')"
      ]
     },
     "metadata": {},
     "output_type": "display_data"
    }
   ],
   "source": [
    "# Run the code in this cell to interact with the widget\n",
    "from qiskit_textbook.widgets import state_vector_exercise\n",
    "state_vector_exercise(target=1/3)"
   ]
  }
 ],
 "metadata": {
  "kernelspec": {
   "display_name": "Python 3",
   "language": "python",
   "name": "python3"
  },
  "language_info": {
   "codemirror_mode": {
    "name": "ipython",
    "version": 3
   },
   "file_extension": ".py",
   "mimetype": "text/x-python",
   "name": "python",
   "nbconvert_exporter": "python",
   "pygments_lexer": "ipython3",
   "version": "3.10.6"
  },
  "orig_nbformat": 4
 },
 "nbformat": 4,
 "nbformat_minor": 2
}
