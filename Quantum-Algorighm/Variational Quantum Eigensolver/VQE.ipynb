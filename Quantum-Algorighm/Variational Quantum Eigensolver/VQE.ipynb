{
  "cells": [
    {
      "cell_type": "code",
      "execution_count": 1,
      "metadata": {
        "id": "MPmoNfn4pnGO"
      },
      "outputs": [],
      "source": [
        "from qiskit import Aer,QuantumRegister,ClassicalRegister\n",
        "import qiskit as qs\n",
        "import numpy as np\n",
        "from  scipy.optimize import minimize_scalar,minimize\n",
        "backend=qs.Aer.get_backend('qasm_simulator')"
      ]
    },
    {
      "cell_type": "code",
      "execution_count": 2,
      "metadata": {
        "id": "qdqkHXIArSSt"
      },
      "outputs": [],
      "source": [
        "# Creating the initial Ansatz\n",
        "def create_ansatz(qc,qr,th):\n",
        "  qc.h(qr[0])\n",
        "  qc.cx(qr[0],qr[1])\n",
        "  qc.rx(th,qr[0])\n",
        "  return qc\n",
        "#Measurement in different basis\n",
        "def measure(qc,qr,cr,op):\n",
        "  if op==\"XX\":\n",
        "    #change basis X=HZH\n",
        "    qc.h(qr[0])\n",
        "    qc.h(qr[1])\n",
        "    qc.cx(qr[0],qr[1])\n",
        "    qc.measure(qr[1],cr[0])\n",
        "  elif op==\"YY\":\n",
        "    #change basis Y=(HSdg)Z(HSdg)\n",
        "    qc.sdg(qr[0])\n",
        "    qc.sdg(qr[1])\n",
        "    qc.h(qr[0])\n",
        "    qc.h(qr[1])\n",
        "    qc.cx(qr[0],qr[1])\n",
        "    qc.measure(qr[1],cr[0])\n",
        "  elif op=='ZZ':\n",
        "    qc.cx(qr[0],qr[1])\n",
        "    qc.measure(qr[1],cr[0])\n",
        "  else :\n",
        "    print(\"Measurement basis not supported\")\n",
        "  return qc\n"
      ]
    },
    {
      "cell_type": "code",
      "execution_count": 3,
      "metadata": {
        "id": "oiyw4WTusoaO"
      },
      "outputs": [],
      "source": [
        "def hamiltonian(param):\n",
        "  en=(1+param['ZZ']-param['XX']-param['YY'])/2\n",
        "  return en"
      ]
    },
    {
      "cell_type": "code",
      "execution_count": 4,
      "metadata": {
        "id": "blmEYVwvs9gw"
      },
      "outputs": [],
      "source": [
        "from qiskit.providers.basicaer.qasm_simulator import QuantumCircuit\n",
        "\n",
        "def vqe(th,verbose=True):\n",
        "  vqe_res=dict()\n",
        "  qc_list=dict()\n",
        "  shots=10000\n",
        "  for op in ['XX','YY','ZZ']:\n",
        "    qr=QuantumRegister(2,'qr')\n",
        "    cr=ClassicalRegister(1,'cr')\n",
        "    qc=QuantumCircuit(qr,cr)\n",
        "    qc=create_ansatz(qc,qr,th)\n",
        "    qc=measure(qc,qr,cr,op)\n",
        "\n",
        "    counts=qs.execute(qc,backend,shots=shots).result().get_counts()\n",
        "\n",
        "    if len(counts)==1:\n",
        "      try:\n",
        "        counts['0']\n",
        "        mean=1\n",
        "      except:\n",
        "        mean=-1\n",
        "    else:\n",
        "      mean=(counts['0']-counts['1'])/shots\n",
        "\n",
        "    vqe_res[op]=mean\n",
        "    qc_list[op]=qc\n",
        "\n",
        "  energy=hamiltonian(vqe_res)\n",
        "\n",
        "  if verbose:\n",
        "    print(\"mean value\\n\",vqe_res)\n",
        "    print(f\"{th:<10f}{energy:<10f}{vqe_res['XX']:<10f}{vqe_res['YY']:<10f}{vqe_res['ZZ']:<10f}\")\n",
        "    return energy,qc_list\n",
        "  else:\n",
        "    return energy"
      ]
    },
    {
      "cell_type": "code",
      "execution_count": 5,
      "metadata": {
        "colab": {
          "base_uri": "https://localhost:8080/",
          "height": 669
        },
        "id": "_gjoUZvDwqEC",
        "outputId": "af9bd823-557e-44b0-d240-e39610197816"
      },
      "outputs": [
        {
          "name": "stdout",
          "output_type": "stream",
          "text": [
            "mean value\n",
            " {'XX': 1, 'YY': -0.9862, 'ZZ': 0.977}\n",
            "0.200000  0.981600  1.000000  -0.986200 0.977000  \n"
          ]
        },
        {
          "data": {
            "image/png": "[encoded data removed]",
            "text/plain": [
              "<Figure size 633.758x284.278 with 1 Axes>"
            ]
          },
          "execution_count": 5,
          "metadata": {},
          "output_type": "execute_result"
        }
      ],
      "source": [
        "th=.2\n",
        "energy,qc_list=vqe(.2)\n",
        "qc_list['XX'].draw(output='mpl')"
      ]
    },
    {
      "cell_type": "code",
      "execution_count": 8,
      "metadata": {
        "colab": {
          "base_uri": "https://localhost:8080/"
        },
        "id": "zpdDN16OxcW6",
        "outputId": "dccaf988-5b66-458e-d5d2-c962f90c3f2a"
      },
      "outputs": [
        {
          "name": "stdout",
          "output_type": "stream",
          "text": [
            "     fun: -1.0\n",
            " message: 'Solution found.'\n",
            "    nfev: 23\n",
            "     nit: 23\n",
            "  status: 0\n",
            " success: True\n",
            "       x: 3.1204382682295955\n",
            "mean value\n",
            " {'XX': 1, 'YY': 1, 'ZZ': -1}\n",
            "3.141593  -1.000000 1.000000  1.000000  -1.000000 \n",
            "-1.0\n"
          ]
        }
      ],
      "source": [
        "print(minimize_scalar(vqe, args=(False), bounds = (0, np.pi), method = \"bounded\"))\n",
        "lowest,_=vqe(np.pi)\n",
        "print(lowest)"
      ]
    },
    {
      "cell_type": "code",
      "execution_count": 7,
      "metadata": {
        "colab": {
          "base_uri": "https://localhost:8080/"
        },
        "id": "eSNh4NERxlp7",
        "outputId": "02ec8f6e-35b5-4a3c-9527-f3c0ae608eae"
      },
      "outputs": [
        {
          "name": "stdout",
          "output_type": "stream",
          "text": [
            "mean value\n",
            " {'XX': 1, 'YY': 1, 'ZZ': -1}\n",
            "3.141593  -1.000000 1.000000  1.000000  -1.000000 \n"
          ]
        }
      ],
      "source": []
    }
  ],
  "metadata": {
    "colab": {
      "provenance": []
    },
    "kernelspec": {
      "display_name": "Python 3",
      "name": "python3"
    },
    "language_info": {
      "codemirror_mode": {
        "name": "ipython",
        "version": 3
      },
      "file_extension": ".py",
      "mimetype": "text/x-python",
      "name": "python",
      "nbconvert_exporter": "python",
      "pygments_lexer": "ipython3",
      "version": "3.10.6"
    }
  },
  "nbformat": 4,
  "nbformat_minor": 0
}
