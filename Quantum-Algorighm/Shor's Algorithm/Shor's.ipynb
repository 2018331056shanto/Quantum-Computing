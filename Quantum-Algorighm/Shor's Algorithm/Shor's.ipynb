{
 "cells": [
  {
   "attachments": {},
   "cell_type": "markdown",
   "metadata": {},
   "source": [
    "# Why Shor's Algorithm\n",
    "#### Problem :Given a function that is periodic , find it's period. \n",
    "#### Periodic function is\n",
    "### $f(x)=f(y) , for x\\neq y |x-y|=kp$, here $p$ is period\n",
    "\n",
    "### Example \n",
    "\n",
    "![Sine-Function](./sine.svg)\n",
    "\n",
    "#### Here $|x-y|=2\\pi$\n",
    "\n",
    "#### Now see the harder one \n",
    "![Hard-Periodic-Function](./hardfunc.png)"
   ]
  },
  {
   "attachments": {},
   "cell_type": "markdown",
   "metadata": {},
   "source": [
    "#### If we are given to find the period of this function we can easily find it as the difference between these top portion. But if we zoom into this region marked as circle then we can see something like the graph in the right side.\n",
    "\n",
    "#### So we can see here that functions that are no necessarily sinusoidal can be quite confusing in order to tell the period. This example shows that we migh be trapped in local regions when we are trying to determine the periodicity."
   ]
  },
  {
   "attachments": {},
   "cell_type": "markdown",
   "metadata": {},
   "source": [
    "#### Again an Example \n",
    "\n",
    "![EvenHarderPeriodic](./evenharderprev.png)"
   ]
  },
  {
   "attachments": {},
   "cell_type": "markdown",
   "metadata": {},
   "source": [
    "#### So what's the period here? It's very hard to see anything periodic by eye ,but it may happen that i might too zoomed in to this function. So, if we went out further, i might notice that it would actually start repeating and do exactly what it did before.\n",
    "\n",
    "![Even-Hard-Post](./evenhardpost.png)"
   ]
  },
  {
   "attachments": {},
   "cell_type": "markdown",
   "metadata": {},
   "source": [
    "#### To classically find the period of a function the complexity is\n",
    "\n",
    "### $O(e^{cn^{\\frac{1}{3}}(\\log n)^{\\frac{2}{3}}})$\n",
    "#### As we have Exponential terms so it becomes hard when we need $n bits$ to describe the period $p$\n",
    "\n",
    "#### In quantum Complexity to find the period $p$\n",
    "\n",
    "### $O(n^2\\log{n}\\log\\log{n})$\n"
   ]
  },
  {
   "attachments": {},
   "cell_type": "markdown",
   "metadata": {},
   "source": [
    "## Reason Why this works:\n",
    "### 1. Quantum Fourier Transform\n",
    "### 2. Moduler Exponentiation"
   ]
  },
  {
   "attachments": {},
   "cell_type": "markdown",
   "metadata": {},
   "source": []
  }
 ],
 "metadata": {
  "language_info": {
   "name": "python"
  },
  "orig_nbformat": 4
 },
 "nbformat": 4,
 "nbformat_minor": 2
}
